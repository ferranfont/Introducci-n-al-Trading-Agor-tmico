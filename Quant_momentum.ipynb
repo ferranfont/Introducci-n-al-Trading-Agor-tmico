{
  "nbformat": 4,
  "nbformat_minor": 0,
  "metadata": {
    "colab": {
      "name": "Quant_momentum.ipynb",
      "provenance": [],
      "mount_file_id": "https://github.com/ferranfont/Introduccion_al_trading_algoritmico/blob/main/Quant_momentum.ipynb",
      "authorship_tag": "ABX9TyM86c4cltp+EhvtW0Ng7sJs",
      "include_colab_link": true
    },
    "kernelspec": {
      "name": "python3",
      "display_name": "Python 3"
    },
    "language_info": {
      "name": "python"
    }
  },
  "cells": [
    {
      "cell_type": "markdown",
      "metadata": {
        "id": "view-in-github",
        "colab_type": "text"
      },
      "source": [
        "<a href=\"https://colab.research.google.com/github/ferranfont/Introduccion_al_trading_algoritmico/blob/main/Quant_momentum.ipynb\" target=\"_parent\"><img src=\"https://colab.research.google.com/assets/colab-badge.svg\" alt=\"Open In Colab\"/></a>"
      ]
    },
    {
      "cell_type": "markdown",
      "source": [
        "**QUANTITATIVE MOMENTUM SYSTEM**"
      ],
      "metadata": {
        "id": "dkOYv0-rdKyf"
      }
    },
    {
      "cell_type": "code",
      "source": [
        "import pandas as pd\n",
        "import numpy as np\n",
        "import requests\n",
        "import matplotlib\n",
        "import math"
      ],
      "metadata": {
        "id": "zHNDjJ5WdPDG"
      },
      "execution_count": null,
      "outputs": []
    },
    {
      "cell_type": "code",
      "source": [
        "from google.colab import drive\n",
        "drive.mount('/content/drive')"
      ],
      "metadata": {
        "id": "Yj7uppygeMJ9"
      },
      "execution_count": null,
      "outputs": []
    },
    {
      "cell_type": "code",
      "source": [
        "# Importamos todos los tickets del SP500\n",
        "stocks = pd.read_csv('/content/drive/MyDrive/Colab Notebooks/sp_500_stocks.csv')\n",
        "stocks"
      ],
      "metadata": {
        "id": "8BE2ShKTd6mi"
      },
      "execution_count": null,
      "outputs": []
    },
    {
      "cell_type": "code",
      "source": [
        "# Hacemos un API a un end point de momentum\n",
        "IEX_CLOUD_API_TOKEN = 'Tpk_059b97af715d417d9f49f50b51b1c448'\n",
        "symbol='BA'\n",
        "api_url = f'https://sandbox.iexapis.com/stable/stock/{symbol}/stats?token={IEX_CLOUD_API_TOKEN}'\n",
        "data = requests.get(api_url).json()\n",
        "data"
      ],
      "metadata": {
        "id": "AjtjdEJcfQfV"
      },
      "execution_count": null,
      "outputs": []
    },
    {
      "cell_type": "code",
      "source": [
        "# Consultamos un campo en particular\n",
        "data['month1ChangePercent']*100"
      ],
      "metadata": {
        "id": "Ho6vxsL3w1va"
      },
      "execution_count": null,
      "outputs": []
    },
    {
      "cell_type": "code",
      "source": [
        "round(data['peRatio'],1)"
      ],
      "metadata": {
        "id": "hS0OAPmTxfIK"
      },
      "execution_count": null,
      "outputs": []
    },
    {
      "cell_type": "code",
      "source": [
        "my_colums = ['Ticker','Descripción', 'rentabilidad_1_año','PER','n_acciones_a_comprar']\n",
        "final_dataframe = pd.DataFrame(columns=my_colums)\n",
        "final_dataframe"
      ],
      "metadata": {
        "id": "uRkLdPfHw2Vo"
      },
      "execution_count": null,
      "outputs": []
    },
    {
      "cell_type": "code",
      "source": [
        "final_dataframe = final_dataframe.append(\n",
        "                                        pd.Series([symbol, \n",
        "                                                   data['companyName'], \n",
        "                                                   round(data['year1ChangePercent'],2),\n",
        "                                                   round(data['peRatio'],1),\n",
        "                                                   'N/A'], \n",
        "                                                  index =my_colums), \n",
        "                                        ignore_index = True)\n",
        "final_dataframe"
      ],
      "metadata": {
        "id": "Yr_mt4840bc8"
      },
      "execution_count": null,
      "outputs": []
    },
    {
      "cell_type": "code",
      "source": [
        "for i in acciones['Ticker'][:80]: #para no ralentizar el proceso lo haremos tan sólo para las primeros 80 símbolos [:80]\n",
        "  api_url = f'https://sandbox.iexapis.com/stable/stock/{i}/quote?token=Tpk_059b97af715d417d9f49f50b51b1c448'\n",
        "  data = requests.get(api_url).json()\n",
        "  final_dataframe = final_dataframe.append(\n",
        "                                        pd.Series([i, \n",
        "                                                   data[''], \n",
        "                                                   data['marketCap'], \n",
        "                                                   'N/A'], \n",
        "                                                  index =my_colums), \n",
        "                                        ignore_index = True)\n"
      ],
      "metadata": {
        "id": "6O78sx4xyu5Y"
      },
      "execution_count": null,
      "outputs": []
    }
  ]
}