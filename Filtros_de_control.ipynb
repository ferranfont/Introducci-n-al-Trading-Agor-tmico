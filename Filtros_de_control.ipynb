{
  "nbformat": 4,
  "nbformat_minor": 0,
  "metadata": {
    "colab": {
      "name": "Filtros de control.ipynb",
      "provenance": [],
      "authorship_tag": "ABX9TyOGbv9HUfbk+aDjbeNESQe1",
      "include_colab_link": true
    },
    "kernelspec": {
      "name": "python3",
      "display_name": "Python 3"
    },
    "language_info": {
      "name": "python"
    }
  },
  "cells": [
    {
      "cell_type": "markdown",
      "metadata": {
        "id": "view-in-github",
        "colab_type": "text"
      },
      "source": [
        "<a href=\"https://colab.research.google.com/github/ferranfont/Introduccion_al_trading_algoritmico/blob/main/Filtros_de_control.ipynb\" target=\"_parent\"><img src=\"https://colab.research.google.com/assets/colab-badge.svg\" alt=\"Open In Colab\"/></a>"
      ]
    },
    {
      "cell_type": "code",
      "source": [
        "import numpy as np"
      ],
      "metadata": {
        "id": "HANjuVaj5gCh"
      },
      "execution_count": 13,
      "outputs": []
    },
    {
      "cell_type": "code",
      "execution_count": null,
      "metadata": {
        "colab": {
          "base_uri": "https://localhost:8080/"
        },
        "id": "pj2EJXV-ACyI",
        "outputId": "81d2d946-8ac2-4669-833d-c165f8cf2609"
      },
      "outputs": [
        {
          "output_type": "stream",
          "name": "stdout",
          "text": [
            "1\n"
          ]
        }
      ],
      "source": [
        "n_lotes=1\n",
        "print(n_lotes)"
      ]
    },
    {
      "cell_type": "code",
      "source": [
        "n_lotes=0\n",
        "print(n_lotes)"
      ],
      "metadata": {
        "colab": {
          "base_uri": "https://localhost:8080/"
        },
        "id": "gjoodDFSCXFh",
        "outputId": "e8855737-d949-49e0-b322-1401fda76354"
      },
      "execution_count": null,
      "outputs": [
        {
          "output_type": "stream",
          "name": "stdout",
          "text": [
            "0\n"
          ]
        }
      ]
    },
    {
      "cell_type": "code",
      "source": [
        "#miramos cuantos lotes tenemos abiertos\n",
        "if (n_lotes >= 2):\n",
        "  print('vas mal')\n",
        "else:\n",
        "  print('ahora sí que  vas bien')"
      ],
      "metadata": {
        "colab": {
          "base_uri": "https://localhost:8080/"
        },
        "id": "tIjAXXOYCgXd",
        "outputId": "34a9b53c-8e88-4598-998b-04c1156c740e"
      },
      "execution_count": null,
      "outputs": [
        {
          "output_type": "stream",
          "name": "stdout",
          "text": [
            "ahora sí que  vas bien\n"
          ]
        }
      ]
    },
    {
      "cell_type": "code",
      "source": [
        ""
      ],
      "metadata": {
        "id": "iYIb_NB4D3Gx"
      },
      "execution_count": null,
      "outputs": []
    },
    {
      "cell_type": "markdown",
      "source": [
        "VAMOS A DEFINIR UNA FUNCION PARA AUTOMATIZAR TAREAS REPETITIVAS\n"
      ],
      "metadata": {
        "id": "2I0iJhKfFekE"
      }
    },
    {
      "cell_type": "code",
      "source": [
        "def ferra():\n",
        "  \"\"\"esta es mi función\"\"\"\n",
        "  print('Ferran, que guapo eres')"
      ],
      "metadata": {
        "id": "S0OTuMn9FjMH"
      },
      "execution_count": 4,
      "outputs": []
    },
    {
      "cell_type": "code",
      "source": [
        "#vamos a hacer un call de la funcion ferra"
      ],
      "metadata": {
        "id": "eTsCBv39F0qI"
      },
      "execution_count": 5,
      "outputs": []
    },
    {
      "cell_type": "code",
      "source": [
        "ferra() "
      ],
      "metadata": {
        "colab": {
          "base_uri": "https://localhost:8080/"
        },
        "id": "SwOQ2WAFF5SZ",
        "outputId": "0f9c5173-df8e-4142-d095-3f378749a407"
      },
      "execution_count": 3,
      "outputs": [
        {
          "output_type": "stream",
          "name": "stdout",
          "text": [
            "Ferran, que guapo eres\n"
          ]
        }
      ]
    },
    {
      "cell_type": "code",
      "source": [
        "#estos este de precio medio de apple\n",
        "def lotes(a,b):\n",
        "  total_forex = a +b\n",
        "  media = total_forex/2\n",
        "  print ('Te informo que lamedia de cotización es \\n')\n",
        "  return media"
      ],
      "metadata": {
        "id": "hTgogo3WGdMg"
      },
      "execution_count": 10,
      "outputs": []
    },
    {
      "cell_type": "code",
      "source": [
        "a= 12.83\n",
        "b= 13.01\n",
        "lotes (a,b)"
      ],
      "metadata": {
        "colab": {
          "base_uri": "https://localhost:8080/"
        },
        "id": "71Irl5wxG_-L",
        "outputId": "74221c88-fa70-4779-c1ed-c83c41e23386"
      },
      "execution_count": 11,
      "outputs": [
        {
          "output_type": "stream",
          "name": "stdout",
          "text": [
            "Te informo que lamedia de cotización es \n",
            "\n"
          ]
        },
        {
          "output_type": "execute_result",
          "data": {
            "text/plain": [
              "12.92"
            ]
          },
          "metadata": {},
          "execution_count": 11
        }
      ]
    },
    {
      "cell_type": "markdown",
      "source": [
        "# vamos a crear un loop o bucle para recorrer un vector con el objetivo de detectar alguna cosa\n"
      ],
      "metadata": {
        "id": "jqmoeLZYJR86"
      }
    },
    {
      "cell_type": "code",
      "source": [
        "matriz = np.array([4521,4569,3951,5500])\n",
        "for i in matriz:\n",
        "  print ('la coticación del SP5000 fue: ', i*2)\n"
      ],
      "metadata": {
        "colab": {
          "base_uri": "https://localhost:8080/"
        },
        "id": "C8mQpAZpJc9P",
        "outputId": "b9fe252c-d124-418d-e08f-54de99460196"
      },
      "execution_count": 16,
      "outputs": [
        {
          "output_type": "stream",
          "name": "stdout",
          "text": [
            "la coticación del SP5000 fue:  9042\n",
            "la coticación del SP5000 fue:  9138\n",
            "la coticación del SP5000 fue:  7902\n",
            "la coticación del SP5000 fue:  11000\n"
          ]
        }
      ]
    },
    {
      "cell_type": "code",
      "source": [
        "print(matriz)"
      ],
      "metadata": {
        "id": "qXRJ0DN_5uSm",
        "outputId": "c6274e4e-565a-4624-84b9-c9d1ae71920f",
        "colab": {
          "base_uri": "https://localhost:8080/"
        }
      },
      "execution_count": 17,
      "outputs": [
        {
          "output_type": "stream",
          "name": "stdout",
          "text": [
            "[4521 4569 3951 5500]\n"
          ]
        }
      ]
    },
    {
      "cell_type": "code",
      "source": [
        "for i in [4,6,2,3]:\n",
        "  x= i**2\n",
        "  print('el cuadrado del valor de:', i , 'es', x)"
      ],
      "metadata": {
        "colab": {
          "base_uri": "https://localhost:8080/"
        },
        "id": "dS_oiXPfKs6w",
        "outputId": "95579202-f930-46b8-d30f-c76e920b79db"
      },
      "execution_count": null,
      "outputs": [
        {
          "output_type": "stream",
          "name": "stdout",
          "text": [
            "el cuadrado del valor de: 4 es 16\n",
            "el cuadrado del valor de: 6 es 36\n",
            "el cuadrado del valor de: 2 es 4\n",
            "el cuadrado del valor de: 3 es 9\n"
          ]
        }
      ]
    },
    {
      "cell_type": "code",
      "source": [
        "cotizaciones =  ['eurusd', 'gbpusd', 'audcad']\n",
        "for i in cotizaciones:\n",
        "  print('cotizaciones es', i)"
      ],
      "metadata": {
        "colab": {
          "base_uri": "https://localhost:8080/"
        },
        "id": "70FlfAFnLQMx",
        "outputId": "05520993-562e-40e9-a1e3-26a92d390f7e"
      },
      "execution_count": null,
      "outputs": [
        {
          "output_type": "stream",
          "name": "stdout",
          "text": [
            "cotizaciones es eurusd\n",
            "cotizaciones es gbpusd\n",
            "cotizaciones es audcad\n"
          ]
        }
      ]
    },
    {
      "cell_type": "code",
      "source": [
        "for i in range (-3,9):\n",
        "  print (i)\n"
      ],
      "metadata": {
        "id": "AByxwr0QMoFr",
        "colab": {
          "base_uri": "https://localhost:8080/"
        },
        "outputId": "d8ea5a35-9efa-48d7-8da5-84bd900598b9"
      },
      "execution_count": null,
      "outputs": [
        {
          "output_type": "stream",
          "name": "stdout",
          "text": [
            "-3\n",
            "-2\n",
            "-1\n",
            "0\n",
            "1\n",
            "2\n",
            "3\n",
            "4\n",
            "5\n",
            "6\n",
            "7\n",
            "8\n"
          ]
        }
      ]
    },
    {
      "cell_type": "code",
      "source": [
        "for i in range(10):\n",
        "  print(i)"
      ],
      "metadata": {
        "id": "NODBsCcNRy-w",
        "outputId": "daf452e4-0717-4c18-ff75-10865b9548d7",
        "colab": {
          "base_uri": "https://localhost:8080/"
        }
      },
      "execution_count": null,
      "outputs": [
        {
          "output_type": "stream",
          "name": "stdout",
          "text": [
            "0\n",
            "1\n",
            "2\n",
            "3\n",
            "4\n",
            "5\n",
            "6\n",
            "7\n",
            "8\n",
            "9\n"
          ]
        }
      ]
    },
    {
      "cell_type": "code",
      "source": [
        ""
      ],
      "metadata": {
        "id": "TnbvO73_Ryyt"
      },
      "execution_count": null,
      "outputs": []
    }
  ]
}