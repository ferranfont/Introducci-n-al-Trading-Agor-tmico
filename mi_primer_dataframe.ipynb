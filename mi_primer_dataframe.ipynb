{
  "nbformat": 4,
  "nbformat_minor": 0,
  "metadata": {
    "colab": {
      "name": "mi_primer_dataframe.ipynb",
      "provenance": [],
      "authorship_tag": "ABX9TyPxAl1y0Np2KpCdcM80vHIP",
      "include_colab_link": true
    },
    "kernelspec": {
      "name": "python3",
      "display_name": "Python 3"
    },
    "language_info": {
      "name": "python"
    }
  },
  "cells": [
    {
      "cell_type": "markdown",
      "metadata": {
        "id": "view-in-github",
        "colab_type": "text"
      },
      "source": [
        "<a href=\"https://colab.research.google.com/github/ferranfont/Introduccion_al_trading_algoritmico/blob/main/mi_primer_dataframe.ipynb\" target=\"_parent\"><img src=\"https://colab.research.google.com/assets/colab-badge.svg\" alt=\"Open In Colab\"/></a>"
      ]
    },
    {
      "cell_type": "code",
      "source": [
        "pip install XlsxWriter"
      ],
      "metadata": {
        "colab": {
          "base_uri": "https://localhost:8080/"
        },
        "id": "3h4lUtpIGejW",
        "outputId": "e76e16fe-d8ef-4b9f-e5b2-beae04809073"
      },
      "execution_count": 1,
      "outputs": [
        {
          "output_type": "stream",
          "name": "stdout",
          "text": [
            "Collecting XlsxWriter\n",
            "  Downloading XlsxWriter-3.0.2-py3-none-any.whl (149 kB)\n",
            "\u001b[?25l\r\u001b[K     |██▏                             | 10 kB 13.1 MB/s eta 0:00:01\r\u001b[K     |████▍                           | 20 kB 8.4 MB/s eta 0:00:01\r\u001b[K     |██████▋                         | 30 kB 5.2 MB/s eta 0:00:01\r\u001b[K     |████████▊                       | 40 kB 4.7 MB/s eta 0:00:01\r\u001b[K     |███████████                     | 51 kB 2.6 MB/s eta 0:00:01\r\u001b[K     |█████████████▏                  | 61 kB 3.1 MB/s eta 0:00:01\r\u001b[K     |███████████████▎                | 71 kB 3.3 MB/s eta 0:00:01\r\u001b[K     |█████████████████▌              | 81 kB 3.4 MB/s eta 0:00:01\r\u001b[K     |███████████████████▊            | 92 kB 3.8 MB/s eta 0:00:01\r\u001b[K     |█████████████████████▉          | 102 kB 3.1 MB/s eta 0:00:01\r\u001b[K     |████████████████████████        | 112 kB 3.1 MB/s eta 0:00:01\r\u001b[K     |██████████████████████████▎     | 122 kB 3.1 MB/s eta 0:00:01\r\u001b[K     |████████████████████████████▍   | 133 kB 3.1 MB/s eta 0:00:01\r\u001b[K     |██████████████████████████████▋ | 143 kB 3.1 MB/s eta 0:00:01\r\u001b[K     |████████████████████████████████| 149 kB 3.1 MB/s \n",
            "\u001b[?25hInstalling collected packages: XlsxWriter\n",
            "Successfully installed XlsxWriter-3.0.2\n"
          ]
        }
      ]
    },
    {
      "cell_type": "code",
      "source": [
        "import pandas as pd\n",
        "import numpy as np\n",
        "import requests\n",
        "import matplotlib\n",
        "import xlsxwriter\n",
        "import math"
      ],
      "metadata": {
        "id": "YjYODQYNGXAZ"
      },
      "execution_count": 2,
      "outputs": []
    },
    {
      "cell_type": "code",
      "execution_count": 3,
      "metadata": {
        "colab": {
          "base_uri": "https://localhost:8080/"
        },
        "id": "9OOYSVATGVVc",
        "outputId": "ebad9eb7-7dcd-4e76-9044-8b8e67fc39a2"
      },
      "outputs": [
        {
          "output_type": "execute_result",
          "data": {
            "text/plain": [
              "{'avgTotalVolume': 6399,\n",
              " 'calculationPrice': 'close',\n",
              " 'change': 0.0731,\n",
              " 'changePercent': 0.01492,\n",
              " 'close': 4.9602,\n",
              " 'closeSource': 'laofiifc',\n",
              " 'closeTime': 1719613781669,\n",
              " 'companyName': 'Studio City International Holdings Ltd - ADR',\n",
              " 'currency': 'USD',\n",
              " 'delayedPrice': 5.02,\n",
              " 'delayedPriceTime': 1646154760853,\n",
              " 'extendedChange': 0.0001,\n",
              " 'extendedChangePercent': 2e-05,\n",
              " 'extendedPrice': 4.96,\n",
              " 'extendedPriceTime': 1723130883230,\n",
              " 'high': 5.15,\n",
              " 'highSource': '5 d teimerd eyepi1canlu',\n",
              " 'highTime': 1654489240308,\n",
              " 'iexAskPrice': None,\n",
              " 'iexAskSize': None,\n",
              " 'iexBidPrice': None,\n",
              " 'iexBidSize': None,\n",
              " 'iexClose': 5.09,\n",
              " 'iexCloseTime': 1648765198776,\n",
              " 'iexLastUpdated': None,\n",
              " 'iexMarketPercent': None,\n",
              " 'iexOpen': None,\n",
              " 'iexOpenTime': None,\n",
              " 'iexRealtimePrice': None,\n",
              " 'iexRealtimeSize': None,\n",
              " 'iexVolume': None,\n",
              " 'isUSMarketOpen': False,\n",
              " 'lastTradeTime': 1648935771403,\n",
              " 'latestPrice': 4.9573,\n",
              " 'latestSource': 'Close',\n",
              " 'latestTime': 'February 18, 2022',\n",
              " 'latestUpdate': 1685922293436,\n",
              " 'latestVolume': 220,\n",
              " 'low': 4.72,\n",
              " 'lowSource': ' ecd eeir5y1pladn emtui',\n",
              " 'lowTime': 1711593524590,\n",
              " 'marketCap': 466447444,\n",
              " 'oddLotDelayedPrice': 4.9,\n",
              " 'oddLotDelayedPriceTime': 1705777666708,\n",
              " 'open': 4.94,\n",
              " 'openSource': 'oiacilff',\n",
              " 'openTime': 1669947984511,\n",
              " 'peRatio': None,\n",
              " 'previousClose': 4.94,\n",
              " 'previousVolume': 809,\n",
              " 'primaryExchange': 'NXTGHNECEW  NSOOCCEI AKY.KR ',\n",
              " 'symbol': 'MSC',\n",
              " 'volume': 227,\n",
              " 'week52High': 24.47,\n",
              " 'week52Low': 4.48,\n",
              " 'ytdChange': -0.06136832390808702}"
            ]
          },
          "metadata": {},
          "execution_count": 3
        }
      ],
      "source": [
        "symbol='MSC'\n",
        "api_url = f'https://sandbox.iexapis.com/stable/stock/{symbol}/quote?token=Tpk_059b97af715d417d9f49f50b51b1c448'\n",
        "data = requests.get(api_url).json()\n",
        "data"
      ]
    },
    {
      "cell_type": "code",
      "source": [
        "mis_columnas= ['Ticker','Precio',]"
      ],
      "metadata": {
        "id": "ZWARzHkNGZ87"
      },
      "execution_count": 4,
      "outputs": []
    }
  ]
}