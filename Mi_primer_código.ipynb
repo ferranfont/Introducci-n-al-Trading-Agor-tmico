{
  "nbformat": 4,
  "nbformat_minor": 0,
  "metadata": {
    "colab": {
      "name": "Mi primer código.ipynb",
      "provenance": [],
      "authorship_tag": "ABX9TyPkC35fcElqghK8JKBQD6wd",
      "include_colab_link": true
    },
    "kernelspec": {
      "name": "python3",
      "display_name": "Python 3"
    },
    "language_info": {
      "name": "python"
    }
  },
  "cells": [
    {
      "cell_type": "markdown",
      "metadata": {
        "id": "view-in-github",
        "colab_type": "text"
      },
      "source": [
        "<a href=\"https://colab.research.google.com/github/ferranfont/Introduccion_al_trading_algoritmico/blob/main/Mi_primer_c%C3%B3digo.ipynb\" target=\"_parent\"><img src=\"https://colab.research.google.com/assets/colab-badge.svg\" alt=\"Open In Colab\"/></a>"
      ]
    },
    {
      "cell_type": "markdown",
      "source": [
        "# ESTE ES MI PRIMER CODIGO"
      ],
      "metadata": {
        "id": "F461Hnrd3ZJk"
      }
    },
    {
      "cell_type": "markdown",
      "source": [
        "Constantes"
      ],
      "metadata": {
        "id": "R-ojWcVWJNV8"
      }
    },
    {
      "cell_type": "code",
      "source": [
        "# Constantes\n",
        "3+2"
      ],
      "metadata": {
        "id": "1h_t4R2z3hbZ",
        "colab": {
          "base_uri": "https://localhost:8080/"
        },
        "outputId": "3a46e733-adf3-432e-9632-b7e8c8b329e6"
      },
      "execution_count": null,
      "outputs": [
        {
          "output_type": "execute_result",
          "data": {
            "text/plain": [
              "5"
            ]
          },
          "metadata": {},
          "execution_count": 1
        }
      ]
    },
    {
      "cell_type": "code",
      "source": [
        "3*5"
      ],
      "metadata": {
        "colab": {
          "base_uri": "https://localhost:8080/"
        },
        "id": "tYpQKlGoKp8e",
        "outputId": "39fc1bae-c448-495e-d529-c988f681e53c"
      },
      "execution_count": null,
      "outputs": [
        {
          "output_type": "execute_result",
          "data": {
            "text/plain": [
              "15"
            ]
          },
          "metadata": {},
          "execution_count": 6
        }
      ]
    },
    {
      "cell_type": "code",
      "source": [
        "2**3"
      ],
      "metadata": {
        "colab": {
          "base_uri": "https://localhost:8080/"
        },
        "id": "-eUAvjifKr0N",
        "outputId": "76ac400d-f787-4fce-bddc-1048ea44c3d1"
      },
      "execution_count": null,
      "outputs": [
        {
          "output_type": "execute_result",
          "data": {
            "text/plain": [
              "8"
            ]
          },
          "metadata": {},
          "execution_count": 7
        }
      ]
    },
    {
      "cell_type": "markdown",
      "source": [
        "Variables"
      ],
      "metadata": {
        "id": "cpcWSqfLJO1k"
      }
    },
    {
      "cell_type": "code",
      "source": [
        "a=3\n",
        "b=5\n",
        "c=a+b\n",
        "print('el resultado es: \\n',c)"
      ],
      "metadata": {
        "colab": {
          "base_uri": "https://localhost:8080/"
        },
        "id": "groN02hiB2Ry",
        "outputId": "d3b919e7-9a24-4721-e24d-2332112ce2b4"
      },
      "execution_count": null,
      "outputs": [
        {
          "output_type": "stream",
          "name": "stdout",
          "text": [
            "el resultado es: \n",
            " 8\n"
          ]
        }
      ]
    },
    {
      "cell_type": "markdown",
      "source": [
        "Concatenación de caracteres"
      ],
      "metadata": {
        "id": "SHiTxM0lJV52"
      }
    },
    {
      "cell_type": "code",
      "source": [
        "a= 'casa '\n",
        "b= 'de '\n",
        "c= 'papel '\n",
        "print(a+b+c)"
      ],
      "metadata": {
        "colab": {
          "base_uri": "https://localhost:8080/"
        },
        "id": "a95IFGTYB95f",
        "outputId": "d3f13007-7e57-47f4-d319-f793ba3a9e94"
      },
      "execution_count": null,
      "outputs": [
        {
          "output_type": "stream",
          "name": "stdout",
          "text": [
            "casa de papel \n"
          ]
        }
      ]
    },
    {
      "cell_type": "code",
      "source": [
        "e='Este es el resultado'\n",
        "f= 565.32\n"
      ],
      "metadata": {
        "id": "-aat7bO2JaNI"
      },
      "execution_count": null,
      "outputs": []
    },
    {
      "cell_type": "code",
      "source": [
        "print(e,f,'€')"
      ],
      "metadata": {
        "colab": {
          "base_uri": "https://localhost:8080/"
        },
        "id": "FIu-YM01Jcej",
        "outputId": "d63c4e77-ec58-4781-c8fe-bb5e004e9c08"
      },
      "execution_count": null,
      "outputs": [
        {
          "output_type": "stream",
          "name": "stdout",
          "text": [
            "Este es el resultado 565.32 €\n"
          ]
        }
      ]
    }
  ]
}